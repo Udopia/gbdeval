{
 "cells": [
  {
   "cell_type": "markdown",
   "metadata": {},
   "source": [
    "# Evaluation Demo\n",
    "\n",
    "In the following, we use the benchmark instance labels provided by GBD's meta.db, and the solver runtimes in the 2023 SAT competition.\n"
   ]
  },
  {
   "cell_type": "code",
   "execution_count": 2,
   "metadata": {},
   "outputs": [],
   "source": [
    "from gbd_core.api import GBD\n",
    "import pandas as pd\n",
    "\n",
    "def get_solvers():\n",
    "    with GBD(['data/sc2023/results_main_detailed.csv']) as gbd:\n",
    "        return [ s for s in gbd.get_features() if s not in [\"aresult\", \"vresult\"] ]\n",
    "\n",
    "def get_sc23_data(runtimes, metadata, addvbs=False):\n",
    "    with GBD(['data/meta.db', 'data/sc2023/results_main_detailed.csv']) as gbd:\n",
    "        df = gbd.query(\"track=main_2023\", resolve=runtimes + metadata, collapse='min')\n",
    "        # convert runtimes to numeric values\n",
    "        df[runtimes] = df[runtimes].apply(pd.to_numeric)\n",
    "        # penalize timeouts\n",
    "        for solver in runtimes:\n",
    "            df.loc[df[solver] >= 5000, solver] = 10000\n",
    "        if addvbs:\n",
    "            # compute the vbs score\n",
    "            df[\"vbs\"] = df[runtimes].min(axis=1)\n",
    "        return df"
   ]
  },
  {
   "cell_type": "markdown",
   "metadata": {},
   "source": [
    "### Portfolio Analysis\n",
    "\n",
    "Next, we determine the best 3-portfolio of solvers in the 2023 SAT competition."
   ]
  },
  {
   "cell_type": "code",
   "execution_count": 3,
   "metadata": {},
   "outputs": [
    {
     "name": "stdout",
     "output_type": "stream",
     "text": [
      "Single-best Solver and Best 2- and 3-Portfolios\n",
      "3274.01 ['SBVA_sbva_cadical']\n",
      "2434.72 ['SBVA_sbva_cadical', 'Kissat_MAB_prop_pr_no_sym']\n",
      "2138.96 ['SBVA_sbva_cadical', 'Kissat_MAB_prop_pr_no_sym', 'BreakID_kissat_low_sh']\n"
     ]
    }
   ],
   "source": [
    "from itertools import combinations\n",
    "\n",
    "def pscore(df: pd.DataFrame, solvers: list[str]):\n",
    "    return df[solvers].min(axis=1).mean()\n",
    "\n",
    "def pscores_all(df: pd.DataFrame, solvers: list[str], k: int):\n",
    "    return sorted([ (comb, pscore(df, list(comb))) for comb in combinations(solvers, k) ], key=lambda k : k[1])\n",
    "\n",
    "def pscores_ext(df: pd.DataFrame, solvers: list[str], tuples: list[tuple[str]]):\n",
    "    tupset = set(frozenset(comb + (s,)) for comb in tuples for s in solvers if s not in comb)\n",
    "    return sorted([ (tuple(comb), pscore(df, list(comb))) for comb in tupset ], key=lambda k : k[1])\n",
    "\n",
    "beam_width: int = 10\n",
    "pf3 = get_solvers()\n",
    "runtimes = get_sc23_data(pf3, [])\n",
    "pfs1 = pscores_all(runtimes, pf3, 1)\n",
    "pfs2 = pscores_all(runtimes, pf3, 2)[:beam_width]\n",
    "pfs3 = pscores_ext(runtimes, pf3, [tup[0] for tup in pfs2])[:beam_width]\n",
    "\n",
    "pf1, pf1score = list(pfs1[0][0]), round(pfs1[0][1], 2)\n",
    "pf2, pf2score = list(pfs2[0][0]), round(pfs2[0][1], 2)\n",
    "pf3, pf3score = list(pfs3[0][0]), round(pfs3[0][1], 2)\n",
    "\n",
    "print(\"Single-best Solver and Best 2- and 3-Portfolios\")\n",
    "print(pf1score, pf1)\n",
    "ordered = [ s[0][0] for s in pfs1 ]\n",
    "print(pf2score, sorted(pf2, key=lambda s : ordered.index(s)))\n",
    "print(pf3score, sorted(pf3, key=lambda s : ordered.index(s)))"
   ]
  },
  {
   "cell_type": "markdown",
   "metadata": {},
   "source": [
    "### Category-wise Ranking\n",
    "\n",
    "Determine the PAR-2 scores per instance category for each solver in the best 3-portfolio."
   ]
  },
  {
   "cell_type": "code",
   "execution_count": 4,
   "metadata": {},
   "outputs": [
    {
     "name": "stdout",
     "output_type": "stream",
     "text": [
      "| family                       |   count |   Kissat_MAB_prop_pr_no_sym |   SBVA_sbva_cadical |   BreakID_kissat_low_sh |\n",
      "|:-----------------------------|--------:|----------------------------:|--------------------:|------------------------:|\n",
      "| interval-matching            |      20 |                        0.15 |            10000.00 |                10000.00 |\n",
      "| or_randxor                   |       5 |                    10000.00 |               21.82 |                  103.93 |\n",
      "| hashtable-safety             |      20 |                      194.75 |              797.46 |                10000.00 |\n",
      "| satcoin                      |      15 |                    10000.00 |             1395.53 |                10000.00 |\n",
      "| set-covering                 |      20 |                     5761.57 |              722.01 |                  262.39 |\n",
      "| cryptography-ascon           |      20 |                     5628.35 |              356.82 |                 2673.77 |\n",
      "| grs-fp-comm                  |      17 |                     3435.82 |             3649.90 |                 8258.64 |\n",
      "| reg-n                        |       5 |                     6295.16 |            10000.00 |                10000.00 |\n",
      "| mutilated-chessboard         |      12 |                     1656.50 |             3194.54 |                 5135.77 |\n",
      "| profitable-robust-production |      20 |                     3946.63 |             2470.42 |                 5031.37 |\n",
      "| hardware-verification        |       8 |                     1558.52 |             2832.05 |                 3964.51 |\n",
      "| register-allocation          |      20 |                        5.50 |              101.20 |                 2016.39 |\n",
      "| tseitin                      |      11 |                     8193.40 |             8196.91 |                 6393.20 |\n",
      "| social-golfer                |      20 |                     7665.62 |             7555.16 |                 9013.05 |\n",
      "| miscellaneous                |      70 |                     2563.98 |             3164.75 |                 3918.52 |\n",
      "| pigeon-hole                  |       8 |                     6381.16 |             5261.85 |                 5128.03 |\n",
      "| school-timetabling           |      19 |                     1266.09 |             1399.65 |                 2371.42 |\n",
      "| brent-equations              |      19 |                      408.33 |              232.86 |                 1133.50 |\n",
      "| miter                        |      11 |                     3157.68 |             3134.91 |                 3723.05 |\n",
      "| argumentation                |      20 |                     4144.27 |             3693.93 |                 3820.58 |\n",
      "| subsumptiontest              |       5 |                       84.60 |              230.22 |                   89.14 |\n",
      "| planning                     |       6 |                       91.26 |                6.97 |                   10.98 |\n",
      "| quasigroup-completion        |       5 |                       60.78 |                9.33 |                    3.43 |\n",
      "| cryptography                 |       7 |                     1577.96 |             1578.46 |                 1570.64 |\n",
      "| cryptography-simon           |      17 |                    10000.00 |            10000.00 |                10000.00 |\n"
     ]
    }
   ],
   "source": [
    "df = get_sc23_data(pf3, [\"family\"])\n",
    "# group families with less than 5 instances into a single group\n",
    "misc = df.groupby(\"family\").count().query(\"hash < 5\").index.tolist()\n",
    "df.replace(misc, \"miscellaneous\", inplace=True)\n",
    "# compute family sizes and family-wise scores\n",
    "counts = df.groupby('family').count()[\"hash\"].rename(\"count\")\n",
    "groups = df.groupby('family').mean(numeric_only=True)\n",
    "tab = groups.merge(counts, on='family', how='left').reset_index()\n",
    "# sort families by the difference between the best and worst solver\n",
    "tab[\"diff\"] = tab[pf3].max(axis=1) - tab[pf3].min(axis=1)\n",
    "tab.sort_values(by=\"diff\", ascending=False, inplace=True)\n",
    "tab = tab[[\"family\", \"count\"] + pf3].reset_index(drop=True)\n",
    "tab.to_markdown(\"family_scores.md\", index=False, floatfmt=\".2f\")\n",
    "# output family_scores.md\n",
    "with open(\"family_scores.md\", \"r\") as f:\n",
    "    print(f.read())"
   ]
  }
 ],
 "metadata": {
  "kernelspec": {
   "display_name": "Python 3",
   "language": "python",
   "name": "python3"
  },
  "language_info": {
   "codemirror_mode": {
    "name": "ipython",
    "version": 3
   },
   "file_extension": ".py",
   "mimetype": "text/x-python",
   "name": "python",
   "nbconvert_exporter": "python",
   "pygments_lexer": "ipython3",
   "version": "3.10.12"
  }
 },
 "nbformat": 4,
 "nbformat_minor": 2
}
